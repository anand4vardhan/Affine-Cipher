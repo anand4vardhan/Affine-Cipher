{
 "cells": [
  {
   "cell_type": "code",
   "execution_count": 1,
   "metadata": {
    "collapsed": false
   },
   "outputs": [
    {
     "data": {
      "text/plain": [
       "({'A': 0,\n",
       "  'B': 1,\n",
       "  'C': 2,\n",
       "  'D': 3,\n",
       "  'E': 4,\n",
       "  'F': 5,\n",
       "  'G': 6,\n",
       "  'H': 7,\n",
       "  'I': 8,\n",
       "  'J': 9,\n",
       "  'K': 10,\n",
       "  'L': 11,\n",
       "  'M': 12,\n",
       "  'N': 13,\n",
       "  'O': 14,\n",
       "  'P': 15,\n",
       "  'Q': 16,\n",
       "  'R': 17,\n",
       "  'S': 18,\n",
       "  'T': 19,\n",
       "  'U': 20,\n",
       "  'V': 21,\n",
       "  'W': 22,\n",
       "  'X': 23,\n",
       "  'Y': 24,\n",
       "  'Z': 25},\n",
       " {0: 'A',\n",
       "  1: 'B',\n",
       "  2: 'C',\n",
       "  3: 'D',\n",
       "  4: 'E',\n",
       "  5: 'F',\n",
       "  6: 'G',\n",
       "  7: 'H',\n",
       "  8: 'I',\n",
       "  9: 'J',\n",
       "  10: 'K',\n",
       "  11: 'L',\n",
       "  12: 'M',\n",
       "  13: 'N',\n",
       "  14: 'O',\n",
       "  15: 'P',\n",
       "  16: 'Q',\n",
       "  17: 'R',\n",
       "  18: 'S',\n",
       "  19: 'T',\n",
       "  20: 'U',\n",
       "  21: 'V',\n",
       "  22: 'W',\n",
       "  23: 'X',\n",
       "  24: 'Y',\n",
       "  25: 'Z'})"
      ]
     },
     "execution_count": 1,
     "metadata": {},
     "output_type": "execute_result"
    }
   ],
   "source": [
    "map1_upper=dict(zip(\"ABCDEFGHIJKLMNOPQRSTUVWXYZ\",range(26)))\n",
    "map1_lower=dict(zip(\"abcdefghijklmnopqrstuvwxyz\",range(26)))\n",
    "map2_upper=dict(zip(range(26),\"ABCDEFGHIJKLMNOPQRSTUVWXYZ\"))\n",
    "map2_lower=dict(zip(range(26),\"abcdefghijklmnopqrstuvwxyz\"))\n",
    "map1_upper,map2_upper"
   ]
  },
  {
   "cell_type": "code",
   "execution_count": 2,
   "metadata": {
    "collapsed": false
   },
   "outputs": [
    {
     "name": "stdout",
     "output_type": "stream",
     "text": [
      "Enter a number: key1 \t1\n",
      "Enter a number: key2 \t3\n",
      "inv mod exists for key one\n",
      "Enter the msg \thello\n",
      "khoor\n",
      "hello\n"
     ]
    }
   ],
   "source": [
    "list_of_mod=[1,3,5,7,9,11,15,17,19,23,25]\n",
    "def check_inv_mod(k1):\n",
    "        if k1 in list_of_mod:\n",
    "            print(\"inv mod exists for key one\")\n",
    "        else:\n",
    "            print(\"change the value of key1 to any of the number in list_of_mod\")\n",
    "            \n",
    "\n",
    "key1=int(input('Enter a number: key1 \\t'))\n",
    "key2=int(input('Enter a number: key2 \\t'))\n",
    "check_inv_mod(key1)\n",
    "\"\"\"def mod(a,b):\n",
    "    while b:\n",
    "        a,b=b,a%b\n",
    "    return a\"\"\"\n",
    "def inverseMod(a, m):\n",
    "\n",
    "    for i in range(1,m):\n",
    "\n",
    "        if ( m*i + 1) % a == 0:\n",
    "\n",
    "            return ( m*i + 1) // a\n",
    "\n",
    "    return None\n",
    "\n",
    "plaintext=input(\"Enter the msg \\t\")\n",
    "ciphertext2=\"\"\n",
    "for c in plaintext:\n",
    "    if c.isupper():\n",
    "        ciphertext2+=map2_upper[((map1_upper[c]*key1)+key2)%26]\n",
    "    elif c.islower():\n",
    "        ciphertext2+=map2_lower[((map1_lower[c]*key1)+key2)%26]\n",
    "    else:\n",
    "        ciphertext2+=c\n",
    "        \n",
    "print(ciphertext2)\n",
    "        \n",
    "decriptedtext=\"\"\n",
    "for c in ciphertext2:\n",
    "    if c.isupper():\n",
    "        decriptedtext+=map2_upper[(((map1_upper[c])-key2)*inverseMod(key1,26))%26]\n",
    "    elif c.islower():\n",
    "        decriptedtext+=map2_lower[(((map1_lower[c])-key2)*inverseMod(key1,26))%26]\n",
    "    else:\n",
    "        decriptedtext+=c\n",
    "        \n",
    "print(decriptedtext)"
   ]
  },
  {
   "cell_type": "code",
   "execution_count": null,
   "metadata": {
    "collapsed": true
   },
   "outputs": [],
   "source": []
  }
 ],
 "metadata": {
  "kernelspec": {
   "display_name": "Python 3",
   "language": "python",
   "name": "python3"
  },
  "language_info": {
   "codemirror_mode": {
    "name": "ipython",
    "version": 3
   },
   "file_extension": ".py",
   "mimetype": "text/x-python",
   "name": "python",
   "nbconvert_exporter": "python",
   "pygments_lexer": "ipython3",
   "version": "3.6.0"
  }
 },
 "nbformat": 4,
 "nbformat_minor": 2
}
